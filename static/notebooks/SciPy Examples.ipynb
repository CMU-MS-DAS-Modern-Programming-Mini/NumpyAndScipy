{
 "cells": [
  {
   "cell_type": "markdown",
   "metadata": {},
   "source": [
    "### SciPy Examples \n",
    "\n",
    "### Refer to the SCiPy documentation at:\n",
    "\n",
    "1. SciPy User Guide: https://docs.scipy.org/doc/scipy/reference/tutorial/index.html\n",
    "2. SciPy API Guide: https://docs.scipy.org/doc/scipy/reference/index.html"
   ]
  },
  {
   "cell_type": "markdown",
   "metadata": {},
   "source": [
    "### Special Functions (scipy.special)\n",
    "\n",
    "There are a number of built-in functions that are used in mathematical physics\n",
    "\n",
    "A full list of the functions available in scipy.special can be found at https://docs.scipy.org/doc/scipy/reference/special.html.\n",
    "\n",
    "For example... a gamma function..."
   ]
  },
  {
   "cell_type": "code",
   "execution_count": 37,
   "metadata": {},
   "outputs": [],
   "source": [
    "import scipy.special as special\n",
    "import numpy as np\n",
    "import matplotlib.pyplot as plt\n",
    "%matplotlib inline"
   ]
  },
  {
   "cell_type": "code",
   "execution_count": 4,
   "metadata": {},
   "outputs": [
    {
     "data": {
      "text/plain": [
       "array([        inf,  1.77245385,  1.        , 24.        ])"
      ]
     },
     "execution_count": 4,
     "metadata": {},
     "output_type": "execute_result"
    }
   ],
   "source": [
    "x = special.gamma([0, 0.5, 1.0, 5.0])\n",
    "x"
   ]
  },
  {
   "cell_type": "code",
   "execution_count": 6,
   "metadata": {},
   "outputs": [
    {
     "data": {
      "text/plain": [
       "(0.7747621045510842+0.7076312043795936j)"
      ]
     },
     "execution_count": 6,
     "metadata": {},
     "output_type": "execute_result"
    }
   ],
   "source": [
    "z = 2.5 + 1j\n",
    "special.gamma(z)"
   ]
  },
  {
   "cell_type": "markdown",
   "metadata": {},
   "source": [
    "### Integration (scipy.integrate)\n",
    "\n",
    "This subpackage has a number of different integration techniques\n",
    "\n",
    "A full list of the available functions can be at: https://docs.scipy.org/doc/scipy/reference/reference/integrate.html#module-scipy.integrate\n",
    "\n",
    "For example, we can take the integral of a bessel function from the interval [0,4.5]\n",
    "\n",
    "$$\n",
    " I = \\int_0^{4.5} J_{2.5}(x)\\,dx\n",
    "$$"
   ]
  },
  {
   "cell_type": "code",
   "execution_count": 7,
   "metadata": {},
   "outputs": [
    {
     "data": {
      "text/plain": [
       "(1.1178179380783253, 7.866317216380692e-09)"
      ]
     },
     "execution_count": 7,
     "metadata": {},
     "output_type": "execute_result"
    }
   ],
   "source": [
    "import scipy.integrate as integrate\n",
    "\n",
    "result = integrate.quad(lambda x: special.jv(2.5,x),0,4.5)\n",
    "result"
   ]
  },
  {
   "cell_type": "markdown",
   "metadata": {},
   "source": [
    "The first argument is always a calleable function, so if we wanted to take the integral of an arbitrary function:\n",
    "\n",
    "$$\n",
    " I(a,b) = \\int_0^1 ax^2 + b\\,dx\n",
    "$$"
   ]
  },
  {
   "cell_type": "code",
   "execution_count": 8,
   "metadata": {},
   "outputs": [
    {
     "data": {
      "text/plain": [
       "(1.6666666666666667, 1.8503717077085944e-14)"
      ]
     },
     "execution_count": 8,
     "metadata": {},
     "output_type": "execute_result"
    }
   ],
   "source": [
    "def integrand(x, a, b):\n",
    "    return a*(x**2) + b\n",
    "\n",
    "a = 2\n",
    "b = 1\n",
    "integrate.quad(integrand,0,1,args=(a,b))"
   ]
  },
  {
   "cell_type": "markdown",
   "metadata": {},
   "source": [
    "You can even include infinity in your integration:\n",
    "\n",
    "$$\n",
    " I(x) = \\int_1^{\\infty} \\frac{e^{-xt}}{t^n}\\,dt\n",
    "$$"
   ]
  },
  {
   "cell_type": "code",
   "execution_count": 9,
   "metadata": {},
   "outputs": [
    {
     "data": {
      "text/plain": [
       "0.10969196719780967"
      ]
     },
     "execution_count": 9,
     "metadata": {},
     "output_type": "execute_result"
    }
   ],
   "source": [
    "def integrand(t, n, x):\n",
    "    return np.exp(-x*t) / t**n\n",
    "\n",
    "integrate.quad(integrand,1,np.inf,args=(3.0,1.0))[0]"
   ]
  },
  {
   "cell_type": "markdown",
   "metadata": {},
   "source": [
    "One can do multiple integrations at once with `dblquad`, `tplquad` or `nquad`:\n",
    "\n",
    "$$\n",
    " I = \\int_0^{\\infty} \\int_1^{\\infty} \\frac{e^{-xt}}{t^{5.0}}\\,dx = \\frac{1}{n}\n",
    "$$"
   ]
  },
  {
   "cell_type": "code",
   "execution_count": 11,
   "metadata": {},
   "outputs": [
    {
     "data": {
      "text/plain": [
       "(0.2000000000189363, 1.3682975855986131e-08)"
      ]
     },
     "execution_count": 11,
     "metadata": {},
     "output_type": "execute_result"
    }
   ],
   "source": [
    "def fun_1(t,  x):\n",
    "    return np.exp(-x*t)/t**5.0\n",
    "\n",
    "integrate.dblquad(fun_1, 0, np.inf, 1, np.inf)"
   ]
  },
  {
   "cell_type": "code",
   "execution_count": 12,
   "metadata": {},
   "outputs": [
    {
     "data": {
      "text/plain": [
       "(0.2000000000189363, 1.3682975855986131e-08)"
      ]
     },
     "execution_count": 12,
     "metadata": {},
     "output_type": "execute_result"
    }
   ],
   "source": [
    "integrate.nquad(fun_1,[[1,np.inf],[0,np.inf]])"
   ]
  },
  {
   "cell_type": "markdown",
   "metadata": {},
   "source": [
    "Sample-based integration can be done through Simpson's rule\n",
    "\n",
    "For example, let's integrate this function:\n",
    "\n",
    "$$\n",
    " \\int_1^4 x2\\,dx = 21.0\n",
    "$$"
   ]
  },
  {
   "cell_type": "code",
   "execution_count": 13,
   "metadata": {},
   "outputs": [
    {
     "data": {
      "text/plain": [
       "21.0"
      ]
     },
     "execution_count": 13,
     "metadata": {},
     "output_type": "execute_result"
    }
   ],
   "source": [
    "def f1(x):\n",
    "    return x**2\n",
    "\n",
    "x = np.array([1,3,4])\n",
    "y = f1(x)\n",
    "\n",
    "integrate.simpson(y,x)"
   ]
  },
  {
   "cell_type": "markdown",
   "metadata": {},
   "source": [
    "One can also solve ordinary differential equations with the `solve_ivp` function.\n",
    "\n",
    "Let's evluate the differential equation:\n",
    "\n",
    "$$\n",
    "\\frac{dy}{dt} = f(y,t)\n",
    "$$\n",
    "$$\n",
    "f(y,t) = -(1/2) y(t)\n",
    "$$\n",
    "$$\n",
    "y(0) = 2.0\n",
    "$$"
   ]
  },
  {
   "cell_type": "code",
   "execution_count": 18,
   "metadata": {},
   "outputs": [
    {
     "data": {
      "text/plain": [
       "(array([ 0.        ,  0.11488132,  1.26369452,  3.06074656,  4.81637262,\n",
       "         6.57504937,  8.33467262, 10.        ]),\n",
       " array([[2.        , 1.88835583, 1.0632438 , 0.43316531, 0.18014905,\n",
       "         0.07480841, 0.03105019, 0.01350782]]))"
      ]
     },
     "execution_count": 18,
     "metadata": {},
     "output_type": "execute_result"
    }
   ],
   "source": [
    "def y(t, y):\n",
    "    return -(1.0/2.0)*y\n",
    "\n",
    "s = integrate.solve_ivp(y,[0, 10], [2])\n",
    "s.t, s.y"
   ]
  },
  {
   "cell_type": "markdown",
   "metadata": {},
   "source": [
    "### Optimization (scipy.optimize)\n",
    "\n",
    "One can do a bevy of different optimizations with Scipy.\n",
    "\n",
    "See https://docs.scipy.org/doc/scipy/reference/reference/optimize.html#module-scipy.optimize for all of the available functions and methods."
   ]
  },
  {
   "cell_type": "markdown",
   "metadata": {},
   "source": [
    "One example would be to do an unconstrained minimization of multivariate scalar function with `minimize`.\n",
    "\n",
    "Let's minimize a Rosenrock function of N variables\n",
    "\n",
    "$$\n",
    "f(x) = \\sum_{i=1}^{N-1} 100(x_{i+1} - x_i^2)^2 + (1 - x_i)^2\n",
    "$$"
   ]
  },
  {
   "cell_type": "code",
   "execution_count": 21,
   "metadata": {},
   "outputs": [],
   "source": [
    "import scipy.optimize as optimize\n",
    "\n",
    "def f(x):\n",
    "    return sum(100.0*(x[1:]-x[:-1]**2.0)**2.0 + (1.0-x[:-1])**2)\n",
    "   "
   ]
  },
  {
   "cell_type": "markdown",
   "metadata": {},
   "source": [
    "Let's use the Nelder-Mead Simplex method"
   ]
  },
  {
   "cell_type": "code",
   "execution_count": 28,
   "metadata": {},
   "outputs": [
    {
     "name": "stdout",
     "output_type": "stream",
     "text": [
      "Optimization terminated successfully.\n",
      "         Current function value: 0.000000\n",
      "         Iterations: 497\n",
      "         Function evaluations: 813\n",
      "[1. 1. 1. 1. 1.]\n"
     ]
    }
   ],
   "source": [
    "x0 = np.array([1.3, 0.4, 0.8, 2.9, 1.2])\n",
    "result = optimize.minimize(f,x0,method=\"nelder-mead\", options={'xatol': 1e-8, 'disp':True})\n",
    "\n",
    "print(result.x)"
   ]
  },
  {
   "cell_type": "markdown",
   "metadata": {},
   "source": [
    "### Interpolation\n",
    "\n",
    "SciPy comes with 1-D and multi-dimensional interpolation techniques\n",
    "\n",
    "For all of the available methods, see: https://docs.scipy.org/doc/scipy/reference/reference/interpolate.html#module-scipy.interpolate"
   ]
  },
  {
   "cell_type": "markdown",
   "metadata": {},
   "source": [
    "A simple 1-D interpolation can be achieved through the `interp1d` method"
   ]
  },
  {
   "cell_type": "code",
   "execution_count": 50,
   "metadata": {},
   "outputs": [
    {
     "data": {
      "image/png": "[encoded data removed]",
      "text/plain": [
       "<Figure size 432x288 with 1 Axes>"
      ]
     },
     "metadata": {
      "needs_background": "light"
     },
     "output_type": "display_data"
    }
   ],
   "source": [
    "import scipy.interpolate as interpolate\n",
    "\n",
    "x = np.linspace(0, 10, num=11, endpoint=True)\n",
    "y = np.cos(-x**2/9.0)\n",
    "\n",
    "f  = interpolate.interp1d(x, y, kind='linear')\n",
    "f2 = interpolate.interp1d(x, y, kind='cubic')\n",
    "f3 = interpolate.interp1d(x, y, kind='quadratic')\n",
    "\n",
    "x_new = np.linspace(0, 10, num=41, endpoint=True)\n",
    "plt.plot(x, y, 'o', x_new, f(x_new), '-', x_new, f2(x_new), '--', x_new, f3(x_new), '.')\n",
    "plt.legend(['data', 'linear', 'cubic', 'quadratic'], loc='best')\n",
    "plt.show()"
   ]
  },
  {
   "cell_type": "markdown",
   "metadata": {},
   "source": [
    "### Fast Fourier Transforms\n",
    "\n",
    "SciPy comes with 1-D, 2-D, and N-D fast Fourier Transforms through `scipy.fft`.\n",
    "\n",
    "See https://docs.scipy.org/doc/scipy/reference/reference/fft.html#module-scipy.fft for full list of methods.\n",
    "\n",
    "A basic 1-D FFT looks like the following:"
   ]
  },
  {
   "cell_type": "code",
   "execution_count": 51,
   "metadata": {},
   "outputs": [
    {
     "data": {
      "text/plain": [
       "(array([ 4.5       -0.j        ,  2.08155948-1.65109876j,\n",
       "        -1.83155948+1.60822041j, -1.83155948-1.60822041j,\n",
       "         2.08155948+1.65109876j]),\n",
       " array([ 1. +0.j,  2. +0.j,  1. +0.j, -1. +0.j,  1.5+0.j]))"
      ]
     },
     "execution_count": 51,
     "metadata": {},
     "output_type": "execute_result"
    }
   ],
   "source": [
    "from scipy.fft import fft, ifft\n",
    "\n",
    "x = np.array([1.0, 2.0, 1.0, -1.0, 1.5])\n",
    "y = fft(x)\n",
    "yinv = ifft(y)\n",
    "\n",
    "y, yinv"
   ]
  },
  {
   "cell_type": "markdown",
   "metadata": {},
   "source": [
    "### Linear Algegra (scipy.linalg)\n",
    "\n",
    "SciPy is built with LAPACK and BLAS libraries that provide very fast highly optimized linear algebra functionality.\n",
    "\n",
    "For a full list of the functionality of `scipy.linalg`, which is quite extensive, see https://docs.scipy.org/doc/scipy/reference/reference/linalg.html#module-scipy.linalg.\n",
    "\n",
    "We will show a few examples here..."
   ]
  },
  {
   "cell_type": "markdown",
   "metadata": {},
   "source": [
    "Solving linear systems can be accomplished through the use of linalg.solve. Lets look at the set of equations:\n",
    "\n",
    "$$\n",
    "x + 3y + 5z = 10\n",
    "$$\n",
    "$$\n",
    "2x + 5y + z = 8\n",
    "$$\n",
    "$$\n",
    "2x + 3y + 8z = 3\n",
    "$$"
   ]
  },
  {
   "cell_type": "code",
   "execution_count": 53,
   "metadata": {},
   "outputs": [
    {
     "data": {
      "text/plain": [
       "array([-9.28,  5.16,  0.76])"
      ]
     },
     "execution_count": 53,
     "metadata": {},
     "output_type": "execute_result"
    }
   ],
   "source": [
    "import scipy.linalg as linalg\n",
    "\n",
    "A = np.array([[1, 3, 5],[2, 5, 1],[2, 3, 8]])\n",
    "B = np.array([10, 8, 3])\n",
    "\n",
    "x = linalg.solve(A,B)\n",
    "x"
   ]
  },
  {
   "cell_type": "markdown",
   "metadata": {},
   "source": [
    "Eigenvalue problems are very common in computatonal science. `scipy.linalg` provides a number of functions that can solve the general eigenvalue problem, as well as a number that are specific to different types of matrices.\n",
    "\n",
    "For example, the `scipy.linalg.eig` solves the general problem"
   ]
  },
  {
   "cell_type": "code",
   "execution_count": 65,
   "metadata": {},
   "outputs": [
    {
     "name": "stdout",
     "output_type": "stream",
     "text": [
      "eig_values = [ 9.62347538e+00+0.j -6.23475383e-01+0.j  5.02863969e-16+0.j]\n",
      "eig_vectors = \t[-0.38508979 -0.82767094  0.40824829]\n",
      "\t\t[-0.55951021 -0.14241368 -0.81649658]\n",
      "\t\t[-0.73393063  0.54284358  0.40824829]\n"
     ]
    }
   ],
   "source": [
    "a = np.array([[1.0, 2.0, 3.0], [2.0, 3.0, 4.0], [3.0, 4.0, 5.0]])\n",
    "eig_values, eig_vectors = linalg.eig(a)\n",
    "print(\"eig_values = {}\".format(eig_values))\n",
    "print(\"eig_vectors = \\t{}\\n\\t\\t{}\\n\\t\\t{}\".format(eig_vectors[0],eig_vectors[1],eig_vectors[2]))"
   ]
  },
  {
   "cell_type": "code",
   "execution_count": null,
   "metadata": {},
   "outputs": [],
   "source": []
  }
 ],
 "metadata": {
  "kernelspec": {
   "display_name": "Python 3 (ipykernel)",
   "language": "python",
   "name": "python3"
  },
  "language_info": {
   "codemirror_mode": {
    "name": "ipython",
    "version": 3
   },
   "file_extension": ".py",
   "mimetype": "text/x-python",
   "name": "python",
   "nbconvert_exporter": "python",
   "pygments_lexer": "ipython3",
   "version": "3.8.5"
  }
 },
 "nbformat": 4,
 "nbformat_minor": 4
}
